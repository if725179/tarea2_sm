{
 "cells": [
  {
   "cell_type": "markdown",
   "metadata": {},
   "source": [
    "# Resumen"
   ]
  },
  {
   "cell_type": "markdown",
   "metadata": {},
   "source": [
    "##  5 REASONS YOU SHOULD LEARN PYTHON NOW\n",
    "\n",
    "### Is Python Useful?\n",
    "Python is easy to use, powerful, and versatile, making it a great choice for beginners and experts alike. Python’s readability makes it a great first programming language — it allows you to think like a programmer and not waste time with confusing syntax. For instance, look at the following code to print “hello world” in Java and Python.\n",
    "\n",
    "The Dropbox desktop client is written entirely in Python, which speaks to its cross-platform compatibility. Dropbox has about 400 million users and considering it isn’t bundled with any operating system distribution, that’s a lot of users downloading and installing Dropbox. In addition to their desktop client, Dropbox’s server-side code is in Python as well, making it the majority language used at the company.\n",
    "\n",
    "Python was used for parts that required rapid delivery and maintenance. Then, they used C++ for the parts of the software stack where it was important to have very low latency and/or tight control of memory.\n",
    "\n",
    "Spotify also uses Python for data analytics and other non-customer facing processes, such as a DNS server recovery system, their payment system, and their label content management system.  Netflix uses a mix of Java, Scala, and Python, and gives developers autonomy when choosing which language fits the problem best. Where do they use Python most? They heavily use Python and iPython in their real-time analytics group.\n",
    "\n",
    "If you take a look at these companies, you can see they benefit from Python for its ease of use and because it’s great for rapid prototyping and iteration. You can also see that Python can be used for a wide variety of applications, and as you learn the basics of Python, you’ll be able to create almost anything you want.\n",
    "\n",
    "Link: <https://www.pluralsight.com/blog/software-development/why-python>\n",
    "\n"
   ]
  },
  {
   "cell_type": "markdown",
   "metadata": {},
   "source": [
    "## Python is becoming the world’s most popular coding language\n",
    "\n",
    "\n",
    "“I CERTAINLY didn’t set out to create a language that was intended for mass consumption,” says Guido van Rossum, a Dutch computer scientist who devised Python, a programming language, in 1989. But nearly three decades on, his invention has overtaken almost all of its rivals and brought coding to the fingertips of people who were once baffled by it.\n",
    "\n",
    "The language’s two main advantages are its simplicity and flexibility. Its straightforward syntax and use of indented spaces make it easy to learn, read and share.\n",
    "\n",
    "This versatility means that the Central Intelligence Agency has used it for hacking, Google for crawling webpages, Pixar for producing movies and Spotify for recommending songs. Some of the most popular packages harness “machine learning”, by crunching large quantities of data to pick out patterns that would otherwise be imperceptible.\n",
    "\n",
    "With such a rapidly growing user base and wide array of capabilities, Python might seem destined to become the lingua franca of coding, rendering all other competitors obsolete. That is unlikely, according to Grady Booch, IBM’s chief software scientist, who compares programming languages to empires. Though at times a rising power might be poised for world domination, its rivals generally survive in the technical and cultural niches in which they emerged.\n",
    "\n",
    "Fortran, Lisp and Ada were all highly popular in the 1980s and 1990s, according to the TIOBE index, which tracks coding practices among professional developers. Their use has plummeted, as more efficient options have become available. No empire, regardless of its might, can last forever.\n",
    "\n",
    "link: <https://www.economist.com/graphic-detail/2018/07/26/python-is-becoming-the-worlds-most-popular-coding-language>"
   ]
  }
 ],
 "metadata": {
  "kernelspec": {
   "display_name": "Python 3",
   "language": "python",
   "name": "python3"
  },
  "language_info": {
   "codemirror_mode": {
    "name": "ipython",
    "version": 3
   },
   "file_extension": ".py",
   "mimetype": "text/x-python",
   "name": "python",
   "nbconvert_exporter": "python",
   "pygments_lexer": "ipython3",
   "version": "3.8.3"
  }
 },
 "nbformat": 4,
 "nbformat_minor": 4
}
